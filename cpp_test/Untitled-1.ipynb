{
 "cells": [
  {
   "cell_type": "code",
   "execution_count": 100,
   "metadata": {},
   "outputs": [],
   "source": [
    "import numpy as np\n",
    "from matplotlib import pyplot as plt"
   ]
  },
  {
   "cell_type": "code",
   "execution_count": 101,
   "metadata": {},
   "outputs": [],
   "source": [
    "n = 5\n",
    "g = 500\n",
    "np.random.seed(1)\n",
    "\n",
    "theta = np.random.uniform(size=n)*2*np.pi\n",
    "np.sort(theta)\n",
    "A = np.cos(theta)\n",
    "B = np.sin(theta)\n",
    "x = np.linspace(-2, 1.5, g)\n",
    "y = np.linspace(-1.75, 1.75, g)\n",
    "X, Y = np.meshgrid(x, y)\n",
    "Z = X[:, :, np.newaxis]*A[np.newaxis, np.newaxis, :] + Y[:, :, np.newaxis]*B[np.newaxis, np.newaxis, :]"
   ]
  },
  {
   "cell_type": "code",
   "execution_count": 102,
   "metadata": {},
   "outputs": [
    {
     "data": {
      "image/png": "[encoded data removed]",
      "text/plain": [
       "<Figure size 432x288 with 1 Axes>"
      ]
     },
     "metadata": {
      "needs_background": "light"
     },
     "output_type": "display_data"
    }
   ],
   "source": [
    "ax = plt.gca()\n",
    "ax.set_aspect(\"equal\")\n",
    "ax.pcolormesh(X, Y, np.all(Z <= 1, axis=-1), shading=\"auto\")\n",
    "ax.set_xlim(-2, 1.5)\n",
    "ax.set_ylim(-1.75, 1.75)\n",
    "\n",
    "pairs = [[i, j] for i in range(n - 1) for j in range(i + 1, n)]\n",
    "vertices = []\n",
    "for I in pairs:\n",
    "  U = np.array([A[I], B[I]]).T\n",
    "  x, y = np.linalg.inv(U) @ np.array([1, 1])\n",
    "  if np.alltrue(A*x + B*y < 1 + 1e-10):\n",
    "    vertices.append((set(I), (x, y)))\n",
    "    plt.plot(x, y, 'ro', ms=10)\n",
    "  else:\n",
    "    plt.plot(x, y, 'bo', ms=10)\n",
    "\n",
    "plt.show()"
   ]
  },
  {
   "cell_type": "code",
   "execution_count": 111,
   "metadata": {},
   "outputs": [],
   "source": [
    "V = np.array([v[1] for v in vertices]).T\n",
    "I = np.isclose(U @ V, 1)"
   ]
  },
  {
   "cell_type": "code",
   "execution_count": 112,
   "metadata": {},
   "outputs": [
    {
     "data": {
      "image/png": "[encoded data removed]",
      "text/plain": [
       "<Figure size 432x288 with 2 Axes>"
      ]
     },
     "metadata": {
      "needs_background": "light"
     },
     "output_type": "display_data"
    }
   ],
   "source": [
    "ax = plt.subplot(1, 2, 1)\n",
    "ax.set_aspect(\"equal\")\n",
    "ax.set_xlim(-2, 1.5)\n",
    "ax.set_ylim(-1.75, 1.75)\n",
    "ax.set_axis_off()\n",
    "\n",
    "J = np.argsort(np.arctan2(V[1], V[0]))\n",
    "ax.fill(*V[:, J], alpha=0.1)\n",
    "\n",
    "for i in I:\n",
    "    ax.plot(*V[:, i], lw=3)\n",
    "\n",
    "ax = plt.subplot(1, 2, 2)\n",
    "t = 1.1\n",
    "ax.set_xlim(-t, t)\n",
    "ax.set_ylim(-t, t)\n",
    "ax.set_aspect(\"equal\")\n",
    "ax.set_axis_off()\n",
    "m = t*min([*np.abs(A), *np.abs(B)])\n",
    "for a, b in zip(A, B):\n",
    "    plt.plot([0, a/m], [0, b/m], lw=3)\n"
   ]
  }
 ],
 "metadata": {
  "interpreter": {
   "hash": "397704579725e15f5c7cb49fe5f0341eb7531c82d19f2c29d197e8b64ab5776b"
  },
  "kernelspec": {
   "display_name": "Python 3.9.5 64-bit",
   "language": "python",
   "name": "python3"
  },
  "language_info": {
   "codemirror_mode": {
    "name": "ipython",
    "version": 3
   },
   "file_extension": ".py",
   "mimetype": "text/x-python",
   "name": "python",
   "nbconvert_exporter": "python",
   "pygments_lexer": "ipython3",
   "version": "3.9.5"
  },
  "orig_nbformat": 4
 },
 "nbformat": 4,
 "nbformat_minor": 2
}
