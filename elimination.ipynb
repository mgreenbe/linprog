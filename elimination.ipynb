{
 "cells": [
  {
   "cell_type": "code",
   "execution_count": 51,
   "metadata": {},
   "outputs": [],
   "source": [
    "import numpy as np\n",
    "from matplotlib import pyplot as plt\n",
    "import scipy.linalg"
   ]
  },
  {
   "cell_type": "code",
   "execution_count": 233,
   "metadata": {},
   "outputs": [],
   "source": [
    "def plot_filled_polygon(X, ax=None, **kwargs):\n",
    "    if ax is None:\n",
    "        ax = plt.gca()\n",
    "    I = np.argsort(np.arctan2(X[:,1], X[:,0]))\n",
    "    ax.fill(*X[I].T, **kwargs)\n",
    "    \n",
    "\n",
    "def fuzzy_less(a, b):\n",
    "    return np.logical_or(a <= b, np.isclose(a, b))\n",
    "\n",
    "\n",
    "def fuzzy_greater(a, b):\n",
    "    return np.logical_or(a >= b, np.isclose(a, b))\n",
    "\n",
    "\n",
    "def inc_seqs(n, k):\n",
    "    if k > n:\n",
    "        return []\n",
    "    if k == 1:\n",
    "        return [[i] for i in range(n)]\n",
    "    seqs = [[0, *[s + 1 for s in S]] for S in inc_seqs(n - 1, k - 1)]\n",
    "    seqs.extend([[s + 1 for s in S] for S in inc_seqs(n - 1, k)])\n",
    "    return seqs\n",
    "\n",
    "\n",
    "def plane(X):\n",
    "    m, n = X.shape\n",
    "    if m != n:\n",
    "        raise ValueError(\"Number of points must equal ambient dimension.\")\n",
    "    x = X[0]\n",
    "    Y = X[1:] - x.reshape(1, n)\n",
    "    a = scipy.linalg.null_space(Y).squeeze()\n",
    "    assert len(a.shape) == 1\n",
    "    b = x @ a\n",
    "    if b < 0:\n",
    "        a = -a\n",
    "        b = -b\n",
    "    assert np.allclose(X @ a - b, 0)\n",
    "    return a, b\n",
    "\n",
    "\n",
    "def points_to_inequalities(X):\n",
    "    m, n = X.shape\n",
    "    seqs = inc_seqs(m, n)\n",
    "    A = []\n",
    "    B = []\n",
    "    for I in seqs:\n",
    "        try:\n",
    "            a, b = plane(X[I])\n",
    "        except:\n",
    "            print(I)\n",
    "            raise\n",
    "        if np.alltrue(fuzzy_less(X @ a, b)):\n",
    "            A.append(a)\n",
    "            B.append(b)\n",
    "        if np.alltrue(fuzzy_greater(X @ a, b)):\n",
    "            A.append(-a)\n",
    "            B.append(-b)\n",
    "    A = np.array(A)\n",
    "    B = np.array(B)\n",
    "    return A, B\n",
    "\n",
    "\n",
    "def inequalities_to_points(A, B):\n",
    "    m, n = A.shape\n",
    "    seqs = inc_seqs(m, n)\n",
    "    X = []\n",
    "    for I in seqs:\n",
    "        x = np.linalg.inv(A[I]) @ B[I]\n",
    "        if np.alltrue(fuzzy_less(A @ x, B)):\n",
    "            X.append(x)\n",
    "    X = np.array(X)\n",
    "    return X"
   ]
  },
  {
   "cell_type": "code",
   "execution_count": 234,
   "metadata": {},
   "outputs": [
    {
     "data": {
      "image/png": "[encoded data removed]",
      "text/plain": [
       "<Figure size 432x288 with 1 Axes>"
      ]
     },
     "metadata": {
      "needs_background": "light"
     },
     "output_type": "display_data"
    }
   ],
   "source": [
    "mean = np.zeros(2)\n",
    "cov = np.identity(2)\n",
    "np.random.seed(10)\n",
    "X = np.random.multivariate_normal(mean, cov, size=7)\n",
    "\n",
    "A, B = points_to_inequalities(X)\n",
    "XX = inequalities_to_points(A, B)\n",
    "\n",
    "plot_filled_polygon(XX)\n",
    "plot_filled_polygon(X)\n",
    "plt.scatter(*X.T, c=\"pink\", s=50, zorder=99)\n",
    "plt.scatter(*XX.T, c=\"red\", s=50, zorder=100)\n",
    "plt.gca().set_axis_off()"
   ]
  },
  {
   "cell_type": "code",
   "execution_count": 253,
   "metadata": {},
   "outputs": [],
   "source": [
    "n = 3\n",
    "mean = np.zeros(n)\n",
    "cov = np.identity(n)\n",
    "np.random.seed(10)\n",
    "X = np.random.multivariate_normal(mean, cov, size=10)\n",
    "A, B = points_to_inequalities(X)\n",
    "XX = inequalities_to_points(A, B)"
   ]
  },
  {
   "cell_type": "code",
   "execution_count": 261,
   "metadata": {},
   "outputs": [
    {
     "name": "stdout",
     "output_type": "stream",
     "text": [
      "[[-0.47044192  0.53321894 -0.70310878]\n",
      " [-0.52589607  0.15653793 -0.83601985]\n",
      " [-0.28238539  0.81310766 -0.50903284]] [0.84155071 0.70367751 0.99223773]\n",
      "\n",
      "[ 1.3315865   0.71527897 -1.54540029]\n",
      "\n",
      "[[-0.47044192  0.53321894 -0.70310878]\n",
      " [-0.52589607  0.15653793 -0.83601985]\n",
      " [ 0.99651082  0.08314038  0.00733903]] [0.84155071 0.70367751 1.37506718]\n",
      "\n",
      "[ 1.3315865   0.71527897 -1.54540029]\n",
      "\n",
      "[[-0.47044192  0.53321894 -0.70310878]\n",
      " [-0.52589607  0.15653793 -0.83601985]\n",
      " [ 0.98804261  0.14944924  0.03790408]] [0.84155071 0.70367751 1.36398513]\n",
      "\n",
      "[ 1.3315865   0.71527897 -1.54540029]\n",
      "\n"
     ]
    }
   ],
   "source": [
    "m, n = A.shape\n",
    "seqs = inc_seqs(m, n)[:3]\n",
    "for I in seqs:\n",
    "        print(A[I], B[I])\n",
    "        print()\n",
    "        x = np.linalg.inv(A[I]) @ B[I]\n",
    "        if np.alltrue(fuzzy_less(A @ x, B)):\n",
    "            print(x)\n",
    "        print()"
   ]
  },
  {
   "cell_type": "code",
   "execution_count": 236,
   "metadata": {},
   "outputs": [
    {
     "name": "stdout",
     "output_type": "stream",
     "text": [
      "[0, 1, 3]\n"
     ]
    },
    {
     "ename": "AssertionError",
     "evalue": "",
     "output_type": "error",
     "traceback": [
      "\u001b[0;31m---------------------------------------------------------------------------\u001b[0m",
      "\u001b[0;31mAssertionError\u001b[0m                            Traceback (most recent call last)",
      "\u001b[0;32m<ipython-input-236-79c58d04738c>\u001b[0m in \u001b[0;36m<module>\u001b[0;34m\u001b[0m\n\u001b[0;32m----> 1\u001b[0;31m \u001b[0mAA\u001b[0m\u001b[0;34m,\u001b[0m \u001b[0mBB\u001b[0m \u001b[0;34m=\u001b[0m \u001b[0mpoints_to_inequalities\u001b[0m\u001b[0;34m(\u001b[0m\u001b[0mXX\u001b[0m\u001b[0;34m)\u001b[0m\u001b[0;34m\u001b[0m\u001b[0;34m\u001b[0m\u001b[0m\n\u001b[0m",
      "\u001b[0;32m<ipython-input-233-3ab02009753b>\u001b[0m in \u001b[0;36mpoints_to_inequalities\u001b[0;34m(X)\u001b[0m\n\u001b[1;32m     47\u001b[0m     \u001b[0;32mfor\u001b[0m \u001b[0mI\u001b[0m \u001b[0;32min\u001b[0m \u001b[0mseqs\u001b[0m\u001b[0;34m:\u001b[0m\u001b[0;34m\u001b[0m\u001b[0;34m\u001b[0m\u001b[0m\n\u001b[1;32m     48\u001b[0m         \u001b[0;32mtry\u001b[0m\u001b[0;34m:\u001b[0m\u001b[0;34m\u001b[0m\u001b[0;34m\u001b[0m\u001b[0m\n\u001b[0;32m---> 49\u001b[0;31m             \u001b[0ma\u001b[0m\u001b[0;34m,\u001b[0m \u001b[0mb\u001b[0m \u001b[0;34m=\u001b[0m \u001b[0mplane\u001b[0m\u001b[0;34m(\u001b[0m\u001b[0mX\u001b[0m\u001b[0;34m[\u001b[0m\u001b[0mI\u001b[0m\u001b[0;34m]\u001b[0m\u001b[0;34m)\u001b[0m\u001b[0;34m\u001b[0m\u001b[0;34m\u001b[0m\u001b[0m\n\u001b[0m\u001b[1;32m     50\u001b[0m         \u001b[0;32mexcept\u001b[0m\u001b[0;34m:\u001b[0m\u001b[0;34m\u001b[0m\u001b[0;34m\u001b[0m\u001b[0m\n\u001b[1;32m     51\u001b[0m             \u001b[0mprint\u001b[0m\u001b[0;34m(\u001b[0m\u001b[0mI\u001b[0m\u001b[0;34m)\u001b[0m\u001b[0;34m\u001b[0m\u001b[0;34m\u001b[0m\u001b[0m\n",
      "\u001b[0;32m<ipython-input-233-3ab02009753b>\u001b[0m in \u001b[0;36mplane\u001b[0;34m(X)\u001b[0m\n\u001b[1;32m     31\u001b[0m     \u001b[0mY\u001b[0m \u001b[0;34m=\u001b[0m \u001b[0mX\u001b[0m\u001b[0;34m[\u001b[0m\u001b[0;36m1\u001b[0m\u001b[0;34m:\u001b[0m\u001b[0;34m]\u001b[0m \u001b[0;34m-\u001b[0m \u001b[0mx\u001b[0m\u001b[0;34m.\u001b[0m\u001b[0mreshape\u001b[0m\u001b[0;34m(\u001b[0m\u001b[0;36m1\u001b[0m\u001b[0;34m,\u001b[0m \u001b[0mn\u001b[0m\u001b[0;34m)\u001b[0m\u001b[0;34m\u001b[0m\u001b[0;34m\u001b[0m\u001b[0m\n\u001b[1;32m     32\u001b[0m     \u001b[0ma\u001b[0m \u001b[0;34m=\u001b[0m \u001b[0mscipy\u001b[0m\u001b[0;34m.\u001b[0m\u001b[0mlinalg\u001b[0m\u001b[0;34m.\u001b[0m\u001b[0mnull_space\u001b[0m\u001b[0;34m(\u001b[0m\u001b[0mY\u001b[0m\u001b[0;34m)\u001b[0m\u001b[0;34m.\u001b[0m\u001b[0msqueeze\u001b[0m\u001b[0;34m(\u001b[0m\u001b[0;34m)\u001b[0m\u001b[0;34m\u001b[0m\u001b[0;34m\u001b[0m\u001b[0m\n\u001b[0;32m---> 33\u001b[0;31m     \u001b[0;32massert\u001b[0m \u001b[0mlen\u001b[0m\u001b[0;34m(\u001b[0m\u001b[0ma\u001b[0m\u001b[0;34m.\u001b[0m\u001b[0mshape\u001b[0m\u001b[0;34m)\u001b[0m \u001b[0;34m==\u001b[0m \u001b[0;36m1\u001b[0m\u001b[0;34m\u001b[0m\u001b[0;34m\u001b[0m\u001b[0m\n\u001b[0m\u001b[1;32m     34\u001b[0m     \u001b[0mb\u001b[0m \u001b[0;34m=\u001b[0m \u001b[0mx\u001b[0m \u001b[0;34m@\u001b[0m \u001b[0ma\u001b[0m\u001b[0;34m\u001b[0m\u001b[0;34m\u001b[0m\u001b[0m\n\u001b[1;32m     35\u001b[0m     \u001b[0;32mif\u001b[0m \u001b[0mb\u001b[0m \u001b[0;34m<\u001b[0m \u001b[0;36m0\u001b[0m\u001b[0;34m:\u001b[0m\u001b[0;34m\u001b[0m\u001b[0;34m\u001b[0m\u001b[0m\n",
      "\u001b[0;31mAssertionError\u001b[0m: "
     ]
    }
   ],
   "source": [
    "AA, BB = points_to_inequalities(XX)"
   ]
  },
  {
   "cell_type": "code",
   "execution_count": 237,
   "metadata": {},
   "outputs": [
    {
     "data": {
      "text/plain": [
       "array([[ 1.3315865 ,  0.71527897, -1.54540029],\n",
       "       [ 1.3315865 ,  0.71527897, -1.54540029],\n",
       "       [-0.00838385,  0.62133597, -0.72008556]])"
      ]
     },
     "execution_count": 237,
     "metadata": {},
     "output_type": "execute_result"
    }
   ],
   "source": [
    "XX[[0, 1, 3]]"
   ]
  },
  {
   "cell_type": "code",
   "execution_count": 252,
   "metadata": {},
   "outputs": [
    {
     "data": {
      "text/plain": [
       "array([[ True,  True,  True,  True,  True,  True,  True,  True,  True,\n",
       "         True],\n",
       "       [ True,  True,  True,  True,  True,  True,  True,  True,  True,\n",
       "         True],\n",
       "       [ True,  True,  True,  True,  True,  True,  True,  True,  True,\n",
       "         True],\n",
       "       [ True,  True,  True,  True,  True,  True,  True,  True,  True,\n",
       "         True],\n",
       "       [ True,  True,  True,  True,  True,  True,  True,  True,  True,\n",
       "         True],\n",
       "       [ True,  True,  True,  True,  True,  True,  True,  True,  True,\n",
       "         True],\n",
       "       [ True,  True,  True,  True,  True,  True,  True,  True,  True,\n",
       "         True],\n",
       "       [ True,  True,  True,  True,  True,  True,  True,  True,  True,\n",
       "         True],\n",
       "       [ True,  True,  True,  True,  True,  True,  True,  True,  True,\n",
       "         True],\n",
       "       [ True,  True,  True,  True,  True,  True,  True,  True,  True,\n",
       "         True],\n",
       "       [ True,  True,  True,  True,  True,  True,  True,  True,  True,\n",
       "         True],\n",
       "       [ True,  True,  True,  True,  True,  True,  True,  True,  True,\n",
       "         True]])"
      ]
     },
     "execution_count": 252,
     "metadata": {},
     "output_type": "execute_result"
    }
   ],
   "source": [
    "fuzzy_less(A @ X.T, B.reshape(-1, 1))"
   ]
  },
  {
   "cell_type": "code",
   "execution_count": 251,
   "metadata": {},
   "outputs": [
    {
     "data": {
      "text/plain": [
       "(12,)"
      ]
     },
     "execution_count": 251,
     "metadata": {},
     "output_type": "execute_result"
    }
   ],
   "source": [
    "B.shape"
   ]
  },
  {
   "cell_type": "code",
   "execution_count": 249,
   "metadata": {},
   "outputs": [
    {
     "data": {
      "text/plain": [
       "(10, 3)"
      ]
     },
     "execution_count": 249,
     "metadata": {},
     "output_type": "execute_result"
    }
   ],
   "source": [
    "X.shape"
   ]
  },
  {
   "cell_type": "code",
   "execution_count": null,
   "metadata": {},
   "outputs": [],
   "source": []
  }
 ],
 "metadata": {
  "interpreter": {
   "hash": "397704579725e15f5c7cb49fe5f0341eb7531c82d19f2c29d197e8b64ab5776b"
  },
  "kernelspec": {
   "display_name": "Python 3.9.5 64-bit",
   "language": "python",
   "name": "python3"
  },
  "language_info": {
   "codemirror_mode": {
    "name": "ipython",
    "version": 3
   },
   "file_extension": ".py",
   "mimetype": "text/x-python",
   "name": "python",
   "nbconvert_exporter": "python",
   "pygments_lexer": "ipython3",
   "version": "3.9.5"
  },
  "orig_nbformat": 4
 },
 "nbformat": 4,
 "nbformat_minor": 2
}
