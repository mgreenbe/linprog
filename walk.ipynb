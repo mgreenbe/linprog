{
 "cells": [
  {
   "cell_type": "code",
   "execution_count": 1,
   "metadata": {},
   "outputs": [],
   "source": [
    "import numpy as np\n",
    "from matplotlib import pyplot as plt"
   ]
  },
  {
   "cell_type": "code",
   "execution_count": 219,
   "metadata": {},
   "outputs": [],
   "source": [
    "def make_vertices(n, seed=None):\n",
    "    if seed is not None:\n",
    "        np.random.seed(seed)\n",
    "    thetas = np.random.uniform(size=n)*0.5*np.pi\n",
    "    thetas = np.sort(thetas)\n",
    "    X = np.array([0, *np.cos(thetas)])\n",
    "    Y = np.array([0, *np.sin(thetas)])\n",
    "    return X, Y\n",
    "\n",
    "def vertices_to_inequalities(X, Y):\n",
    "    A = []\n",
    "    B = []\n",
    "    C = []\n",
    "    n = len(X)\n",
    "    for i in range(n):\n",
    "        x1, y1 = X[i], Y[i]\n",
    "        x2, y2 = (X[i+1], Y[i+1]) if i < n - 1 else (X[0], Y[0])\n",
    "        a, b = (y2 - y1), -(x2 - x1)\n",
    "        c = a*x1 + b*y1\n",
    "        A.append(a)\n",
    "        B.append(b)\n",
    "        C.append(c)\n",
    "        assert np.isclose(a*x1 + b*y1, c), i\n",
    "        assert np.isclose(a*x2 + b*y2, c), i\n",
    "        assert a*np.mean(X) + b*np.mean(Y) < c, i\n",
    "    A = np.array(A)\n",
    "    B = np.array(B)\n",
    "    C = np.array(C)\n",
    "    return A, B, C\n",
    "\n",
    "def check(X, Y, A, B, C):\n",
    "    XX = []\n",
    "    YY = []\n",
    "    n = len(X)\n",
    "    for i in range(n - 1):\n",
    "        for j in range(i + 1, n):\n",
    "            U = np.array([[A[i], B[i]], [A[j], B[j]]])\n",
    "            v = np.array([C[i], C[j]])\n",
    "            x, y = np.linalg.solve(U, v)\n",
    "            if np.all(np.logical_or(np.isclose(A*x + B*y, C), A*x + B*y < C)):\n",
    "                XX.append(x)\n",
    "                YY.append(y)\n",
    "    XX = np.array(XX)\n",
    "    YY = np.array(YY)\n",
    "    I = np.argsort(np.arctan2(YY, XX))\n",
    "    XX = XX[I]\n",
    "    YY = YY[I]\n",
    "    return np.allclose(X, XX) and np.allclose(Y, YY)"
   ]
  },
  {
   "cell_type": "code",
   "execution_count": 242,
   "metadata": {},
   "outputs": [
    {
     "data": {
      "image/png": "[encoded data removed]",
      "text/plain": [
       "<Figure size 432x288 with 1 Axes>"
      ]
     },
     "metadata": {
      "needs_background": "light"
     },
     "output_type": "display_data"
    }
   ],
   "source": [
    "X, Y = make_vertices(5, seed=1)\n",
    "A, B, C = vertices_to_inequalities(X, Y)\n",
    "check(X, Y, A, B, C)\n",
    "\n",
    "ax = plt.gca()\n",
    "ax.set_aspect(\"equal\")\n",
    "ax.set_xlim(-0.1, 1.1)\n",
    "ax.set_ylim(-0.1, 1.1)\n",
    "ax.scatter(X, Y, s=20)\n",
    "for i, (x, y) in enumerate(zip(X, Y)):\n",
    "    ax.annotate(str(i), (x + 0.01, y + 0.01))\n",
    "ax.fill(X, Y, \"pink\", zorder=-1)\n",
    "\n",
    "plt.show()"
   ]
  },
  {
   "cell_type": "code",
   "execution_count": 243,
   "metadata": {},
   "outputs": [],
   "source": [
    "k = len(X)//2\n",
    "I = np.isclose(A*X[k] + B*Y[k], C)\n",
    "assert np.sum(I) == 2\n",
    "u = -A[I].sum()\n",
    "v = -B[I].sum()\n",
    "assert np.argmin(u*X + v*Y) == k"
   ]
  },
  {
   "cell_type": "code",
   "execution_count": 332,
   "metadata": {},
   "outputs": [],
   "source": [
    "def make_vs(n, seed=None, min_ang_sep=0.1):\n",
    "    if seed is not None:\n",
    "        np.random.seed(seed)\n",
    "    while True:\n",
    "        theta = np.sort([0, *np.random.uniform(size=n)*0.5*np.pi, 0.5*np.pi])\n",
    "        if np.alltrue(np.diff(theta) > min_ang_sep):\n",
    "            break\n",
    "\n",
    "    X = np.array([np.cos(theta), np.sin(theta)]).T\n",
    "    assert np.all(np.diff(X[:,0]) < 0)\n",
    "    assert np.all(np.diff(X[:,1]) > 0)\n",
    "    return X\n",
    "\n",
    "def vs_to_is(X):\n",
    "    m = len(X) - 1\n",
    "    A = np.zeros((m, 2))\n",
    "    b = np.zeros(m)\n",
    "    for i in range(m):\n",
    "        v = X[i + 1] - X[i]\n",
    "        A[i] = [v[1], -v[0]]\n",
    "        b[i] = A[i].dot(X[i])\n",
    "        assert np.isclose(A[i].dot(X[i + 1]), b[i])\n",
    "    \n",
    "    assert np.alltrue(b > 0) # (0, 0) is feasible\n",
    "\n",
    "    for i in range(m - 1):\n",
    "        x = np.linalg.solve(A[i:i + 2], b[i:i + 2])\n",
    "        assert np.allclose(x, X[i + 1])\n",
    "        \n",
    "    return A, b"
   ]
  },
  {
   "cell_type": "code",
   "execution_count": 411,
   "metadata": {},
   "outputs": [
    {
     "data": {
      "image/png": "[encoded data removed]",
      "text/plain": [
       "<Figure size 432x288 with 1 Axes>"
      ]
     },
     "metadata": {
      "needs_background": "light"
     },
     "output_type": "display_data"
    }
   ],
   "source": [
    "m = 6\n",
    "X = make_vs(m - 1, seed=666)\n",
    "A, b = vs_to_is(X)\n",
    "\n",
    "x = [0, *X[:,0]]\n",
    "y = [0, *X[:,1]]\n",
    "ax = plt.gca()\n",
    "ax.set_aspect(\"equal\")\n",
    "ax.set_xlim(-0.1, 1.1)\n",
    "ax.set_ylim(-0.1, 1.1)\n",
    "ax.scatter(x, y, s=30)\n",
    "ax.fill(x, y, \"pink\", zorder=-1)\n",
    "\n",
    "plt.show()"
   ]
  },
  {
   "cell_type": "code",
   "execution_count": 416,
   "metadata": {},
   "outputs": [],
   "source": [
    "def get_adjacent_vertices(x, A, b):\n",
    "    m, n = A.shape\n",
    "    AI = np.hstack([A, np.identity(m)])\n",
    "    N = set([i for i in range(n + m) if x[i] == 0])\n",
    "    B = set([i for i in range(n + m) if x[i] != 0])\n",
    "    V = []\n",
    "    for e in N:\n",
    "        for l in B:\n",
    "            BB = B.copy()\n",
    "            NN = N.copy()\n",
    "            BB.remove(l)\n",
    "            BB.add(e)\n",
    "            BB = list(BB)\n",
    "            NN.remove(e)\n",
    "            NN.add(l)\n",
    "            NN = list(NN)\n",
    "            xx = np.zeros_like(x)\n",
    "            xx[BB] = np.linalg.solve(AI[:, BB], b)\n",
    "            if np.alltrue(xx >= 0):\n",
    "                V.append(xx)\n",
    "    return np.array(V)"
   ]
  },
  {
   "cell_type": "code",
   "execution_count": 417,
   "metadata": {},
   "outputs": [
    {
     "name": "stdout",
     "output_type": "stream",
     "text": [
      "[0. 1.] -0.8326933009470039\n",
      "[0.17363205 0.9848106 ] -0.9161912386302691\n",
      "[0.28068962 0.95979859] -0.9546453774638768\n",
      "[0.55373447 0.8326933 ] -0.9999999999999998\n"
     ]
    }
   ],
   "source": [
    "c = -X[len(X)//2]\n",
    "m, n = A.shape\n",
    "x = np.concatenate([np.zeros(n), b])\n",
    "c = np.concatenate([-X[len(X)//2], np.zeros(m)])\n",
    "while True:\n",
    "    V = get_adjacent_vertices(x, A, b)\n",
    "    i = np.argmin(V @ c)\n",
    "    v = V[i]\n",
    "    if v @ c < x @ c:\n",
    "        x = v\n",
    "        print(x[:n], x @ c)\n",
    "    else:\n",
    "        break"
   ]
  }
 ],
 "metadata": {
  "interpreter": {
   "hash": "397704579725e15f5c7cb49fe5f0341eb7531c82d19f2c29d197e8b64ab5776b"
  },
  "kernelspec": {
   "display_name": "Python 3.9.5 64-bit",
   "language": "python",
   "name": "python3"
  },
  "language_info": {
   "codemirror_mode": {
    "name": "ipython",
    "version": 3
   },
   "file_extension": ".py",
   "mimetype": "text/x-python",
   "name": "python",
   "nbconvert_exporter": "python",
   "pygments_lexer": "ipython3",
   "version": "3.9.5"
  },
  "orig_nbformat": 4
 },
 "nbformat": 4,
 "nbformat_minor": 2
}
