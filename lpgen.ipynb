{
 "cells": [
  {
   "cell_type": "code",
   "execution_count": 25,
   "metadata": {},
   "outputs": [],
   "source": [
    "import numpy as np\n",
    "from matplotlib import pyplot as plt\n",
    "from scipy.optimize import linprog\n",
    "import scipy.linalg\n",
    "import sympy\n",
    "from fractions import Fraction\n",
    "import fractions\n",
    "import math\n",
    "from IPython.display import display\n",
    "from collections import defaultdict\n",
    "from warnings import warn"
   ]
  },
  {
   "cell_type": "code",
   "execution_count": 13,
   "metadata": {},
   "outputs": [],
   "source": [
    "def lpgen(m, n, seed=None):\n",
    "    rng = np.random.default_rng(seed)\n",
    "    x = rng.uniform(size=n)\n",
    "    A = rng.normal(size=(m, n))\n",
    "    b = A @ x\n",
    "    A = A * np.sign(b).reshape(-1, 1)\n",
    "    b = b * np.sign(b)\n",
    "    assert np.alltrue(x >= 0)\n",
    "    assert np.alltrue(b >= 0)\n",
    "    assert np.allclose(A @ x, b)\n",
    "    return A, b"
   ]
  },
  {
   "cell_type": "code",
   "execution_count": 14,
   "metadata": {},
   "outputs": [
    {
     "name": "stdout",
     "output_type": "stream",
     "text": [
      "[-1.36532618  0.65575541  0.74573526 -1.59044281 -0.06465185]\n"
     ]
    },
    {
     "data": {
      "text/plain": [
       "     con: array([ 9.91127180e-10, -1.33021830e-09, -6.23048474e-09])\n",
       "     fun: -0.6942160381575284\n",
       " message: 'Optimization terminated successfully.'\n",
       "     nit: 5\n",
       "   slack: array([], dtype=float64)\n",
       "  status: 0\n",
       " success: True\n",
       "       x: array([9.68980342e-01, 1.02257554e+00, 7.33154014e-10, 1.94010533e-10,\n",
       "       6.46559373e-01])"
      ]
     },
     "execution_count": 14,
     "metadata": {},
     "output_type": "execute_result"
    }
   ],
   "source": [
    "m, n = 3, 5\n",
    "A_eq, b_eq = lpgen(m, n)\n",
    "c = np.random.normal(size=n)\n",
    "print(c)\n",
    "linprog(c, A_eq=A_eq, b_eq=b_eq)"
   ]
  },
  {
   "cell_type": "code",
   "execution_count": 15,
   "metadata": {},
   "outputs": [],
   "source": [
    "seed = None\n",
    "rng = np.random.default_rng(seed)\n",
    "\n",
    "m, n = 4, 5\n",
    "\n",
    "for i in range(1000):\n",
    "    A = rng.integers(-5, high=6, size=(m, n))\n",
    "    u = scipy.linalg.null_space(A).squeeze()\n",
    "    if np.alltrue(u > 0):\n",
    "        break\n",
    "\n",
    "x = np.ones(n)\n",
    "b = A @ x"
   ]
  },
  {
   "cell_type": "code",
   "execution_count": 16,
   "metadata": {},
   "outputs": [
    {
     "name": "stdout",
     "output_type": "stream",
     "text": [
      "Broke on 4.\n",
      "c =  [ 3 -9 -5  7 -1]\n",
      "[-2.89431712 -2.89431712 -2.89431712 -2.89431712]\n",
      "     con: array([ 6.40869141e-04, -1.52587891e-05,  6.71386719e-04,  1.00708008e-03])\n",
      "     fun: -291859470639.85376\n",
      " message: 'The algorithm terminated successfully and determined that the problem is unbounded.'\n",
      "     nit: 4\n",
      "   slack: array([], dtype=float64)\n",
      "  status: 3\n",
      " success: False\n",
      "       x: array([2.20711435e+10, 1.89309401e+10, 8.87331744e+10, 3.75029999e+10,\n",
      "       6.54956697e+09])\n"
     ]
    }
   ],
   "source": [
    "for i in range(100):\n",
    "    c_unbounded = rng.integers(-10, high=10, size=n)\n",
    "    result = linprog(c_unbounded, A_eq=A, b_eq=b)\n",
    "    if result.status == 3:\n",
    "        break\n",
    "print(f\"Broke on {i}.\")\n",
    "print(\"c = \", c_unbounded)\n",
    "print(np.diff([c_unbounded.dot(x + k*u) for k in range(5)]))\n",
    "print(result)"
   ]
  },
  {
   "cell_type": "code",
   "execution_count": 17,
   "metadata": {},
   "outputs": [
    {
     "name": "stdout",
     "output_type": "stream",
     "text": [
      "Broke on 1.\n",
      "[ 3 -2  7 -8 -5]\n",
      "     con: array([-1.06581410e-14, -1.77635684e-15,  1.77635684e-15,  2.66453526e-15])\n",
      "     fun: -8.569261880679264\n",
      " message: 'Optimization terminated successfully.'\n",
      "     nit: 4\n",
      "   slack: array([], dtype=float64)\n",
      "  status: 0\n",
      " success: True\n",
      "       x: array([7.51263903e-01, 7.86653185e-01, 2.32366274e-12, 5.77350859e-01,\n",
      "       9.26188069e-01])\n",
      "[Fraction(743, 989), Fraction(778, 989), Fraction(0, 1), Fraction(571, 989), Fraction(916, 989)]\n"
     ]
    }
   ],
   "source": [
    "for i in range(100):\n",
    "    c_success = rng.integers(-10, high=10, size=n)\n",
    "    result = linprog(c_success, A_eq=A, b_eq=b)\n",
    "    if result.status == 0:\n",
    "        break\n",
    "print(f\"Broke on {i}.\")\n",
    "print(c_success)\n",
    "print(result)\n",
    "\n",
    "x = result.x\n",
    "x_frac = [Fraction(xi).limit_denominator(100000) for xi in result.x]\n",
    "x_float = np.array([float(xi) for xi in x_frac])\n",
    "assert np.allclose(x, x_float)\n",
    "print(x_frac)"
   ]
  },
  {
   "cell_type": "code",
   "execution_count": 18,
   "metadata": {},
   "outputs": [],
   "source": [
    "def make_unbounded_polyhedron(m, n, rng=None, seed=None, max_iter=1000):\n",
    "    if rng is None:\n",
    "        rng = np.random.default_rng(seed)\n",
    "\n",
    "    for i in range(max_iter):\n",
    "        A = rng.integers(-9, high=10, size=(m, n))\n",
    "        AA = sympy.Matrix(A)\n",
    "        if AA.rank() < m:\n",
    "            continue\n",
    "        u = AA.nullspace()[0]\n",
    "        if all([u[i, 0] > 0 for i in range(n)]):\n",
    "            print(i)\n",
    "            print(u)\n",
    "            u_den = [u[i, 0].denominator for i in range(n)]\n",
    "            d = math.lcm(*u_den)\n",
    "            u = np.array([int(d*u[i, 0]) for i in range(n)])\n",
    "            assert np.allclose(A @ u, 0)\n",
    "            assert np.alltrue(u > 0)\n",
    "            break\n",
    "        if i == max_iter - 1:\n",
    "            raise Exception(\"max_iter reached.\")\n",
    "    \n",
    "    b = A @ np.ones(n, dtype=int)\n",
    "    s = np.sign(b + 1e-10).astype(int)\n",
    "    A *= s.reshape(-1, 1)\n",
    "    b *= s\n",
    "    \n",
    "    return A, b, u\n",
    "\n",
    "def make_c(A, b, u=None, status=0, rng=None, seed=None, max_iter=1000):\n",
    "    m, n = A.shape\n",
    "\n",
    "    if rng is None:\n",
    "        rng = np.random.default_rng(seed)\n",
    "\n",
    "    for i in range(max_iter):\n",
    "        c = rng.integers(-9, high=10, size=n)\n",
    "        result = linprog(c, A_eq=A, b_eq=b, method=\"revised simplex\")\n",
    "        if result.status == status:\n",
    "            if status == 0 and u is not None and c.dot(u) < 0:\n",
    "                raise Exception(\"u is cost decreasing!\")\n",
    "            if status == 3 and u is not None and c.dot(u) >= 0:\n",
    "                raise Exception(\"u is not cost decreasing!\", c, u, c.dot(u))\n",
    "            break\n",
    "        if i == max_iter - 1:\n",
    "            raise Exception(\"max_iter reached.\")\n",
    "\n",
    "    return c\n",
    "\n",
    "def certify_unbounded(c, u):\n",
    "    x = np.ones(len(c), dtype=int)\n",
    "    print(np.diff([c.dot(x + k*u) for k in range(10)]))\n"
   ]
  },
  {
   "cell_type": "code",
   "execution_count": 19,
   "metadata": {},
   "outputs": [
    {
     "name": "stdout",
     "output_type": "stream",
     "text": [
      "157\n",
      "Matrix([[9909120/46448411], [2216474/46448411], [46444295/46448411], [148538333/46448411], [16829964/46448411], [46000520/46448411], [95809363/46448411], [88141060/46448411], [1]])\n"
     ]
    }
   ],
   "source": [
    "A, b, u = make_unbounded_polyhedron(8, 9)\n"
   ]
  },
  {
   "cell_type": "code",
   "execution_count": 20,
   "metadata": {},
   "outputs": [
    {
     "name": "stdout",
     "output_type": "stream",
     "text": [
      "[0.93328914 0.9850781  0.68732452 0.         0.88669616 0.69031213\n",
      " 0.3549856  0.40661068 0.68729681]\n"
     ]
    }
   ],
   "source": [
    "c = make_c(A, b, u=u, status=0)\n",
    "result = linprog(c, A_eq=A, b_eq=b, method=\"revised simplex\")\n",
    "print(result.x)"
   ]
  },
  {
   "cell_type": "code",
   "execution_count": 21,
   "metadata": {},
   "outputs": [
    {
     "data": {
      "text/plain": [
       "True"
      ]
     },
     "execution_count": 21,
     "metadata": {},
     "output_type": "execute_result"
    }
   ],
   "source": [
    "u = sympy.Matrix(A).nullspace()[0]\n",
    "all([u[i, 0] > 0 for i in range(5)])"
   ]
  },
  {
   "cell_type": "code",
   "execution_count": 22,
   "metadata": {},
   "outputs": [
    {
     "name": "stdout",
     "output_type": "stream",
     "text": [
      "[9.33289140e-01 9.85078101e-01 6.87324517e-01 5.12724772e-16\n",
      " 8.86696157e-01 6.90312130e-01 3.54985605e-01 4.06610683e-01\n",
      " 6.87296807e-01]\n"
     ]
    }
   ],
   "source": [
    "m, n = A.shape\n",
    "bb = np.zeros(n, dtype=int)\n",
    "bb[:m] = b.copy()\n",
    "bb[m] = 0\n",
    "I = np.identity(n, dtype=int)\n",
    "for i in range(n):\n",
    "    AA = np.zeros((n, n), dtype=int)\n",
    "    AA[:m] = A.copy()\n",
    "    AA[m] = I[i]\n",
    "    x = np.linalg.solve(AA, bb)\n",
    "    if np.all(x > 0):\n",
    "        print(x)"
   ]
  },
  {
   "cell_type": "code",
   "execution_count": 23,
   "metadata": {},
   "outputs": [
    {
     "name": "stdout",
     "output_type": "stream",
     "text": [
      "12\n"
     ]
    }
   ],
   "source": [
    "def make_polyhedron(m, n, rng=None, seed=None):\n",
    "    if rng is None:\n",
    "        rng = np.random.default_rng(seed)\n",
    "\n",
    "    while True:\n",
    "        A = rng.integers(-9, high=10, size=(m, n))\n",
    "        _u, s, _vt = np.linalg.svd(A)\n",
    "        if np.min(s) > 0.1:\n",
    "            break\n",
    "    \n",
    "    b = A @ np.ones(n, dtype=int)\n",
    "    s = np.sign(b + 0.1).astype(int)\n",
    "    A *= s.reshape(-1, 1)\n",
    "    b *= s\n",
    "    \n",
    "    return A, b\n",
    "\n",
    "\n",
    "def subseqs(A, k):\n",
    "    if k < 0 or len(A) < k:\n",
    "        return []\n",
    "    if k == 0:\n",
    "        return [[]]\n",
    "    ans = [[A[0], *s] for s in subseqs(A[1:], k-1)]\n",
    "    ans.extend(subseqs(A[1:], k))\n",
    "    return ans\n",
    "    \n",
    "\n",
    "def find_vertices(A, b):\n",
    "    m, n = A.shape\n",
    "    I = np.identity(n, dtype=int)\n",
    "    S = subseqs(np.arange(n), n - m)\n",
    "    xs = []\n",
    "    for s in S:\n",
    "        U = np.zeros((n, n+1), dtype=int)\n",
    "        U[:m, :n] = A.copy()\n",
    "        U[:m, n] = b.copy()\n",
    "        U[m:, :n] = I[s]\n",
    "        _u, s, _vt = np.linalg.svd(U)\n",
    "        assert np.min(s) > 0.01\n",
    "        V = sympy.Matrix(U)\n",
    "        R = V.rref()[0]\n",
    "        x = [R[i,n] for i in range(n)]\n",
    "        if all(xi >= 0 for xi in x):\n",
    "            xs.append(x)\n",
    "    return xs\n",
    "\n",
    "    \n",
    "\n",
    "m, n = 5, 8\n",
    "A, b = make_polyhedron(m, n)\n",
    "vertices = find_vertices(A, b)\n",
    "print(len(vertices))\n",
    "V = np.array(vertices, dtype=float)\n",
    "assert np.alltrue(V >= 0)\n",
    "assert np.allclose(A @ V.T - b.reshape(-1, 1), 0)"
   ]
  },
  {
   "cell_type": "code",
   "execution_count": 24,
   "metadata": {},
   "outputs": [],
   "source": [
    "v = V[0]\n",
    "N = np.isclose(v, 0)\n",
    "B = np.logical_not(N)\n",
    "ABinv = np.linalg.inv(A[:,B])\n",
    "x = np.zeros_like(v)\n",
    "x[B] = ABinv @ b\n",
    "assert np.allclose(v, x)"
   ]
  },
  {
   "cell_type": "code",
   "execution_count": 25,
   "metadata": {},
   "outputs": [
    {
     "name": "stdout",
     "output_type": "stream",
     "text": [
      "[1.79800877e+00 1.70435370e+00 0.00000000e+00 2.57694904e+00\n",
      " 0.00000000e+00 5.74097199e+00 2.22044605e-16 2.63415457e+00]\n",
      "[0.00000000e+00 1.14140745e+00 1.07001530e+00 8.79602244e-01\n",
      " 0.00000000e+00 9.99200722e-16 1.16251912e+00 8.50892402e-01]\n",
      "[0.00000000e+00 1.13079966e+00 0.00000000e+00 4.37691187e-01\n",
      " 3.36055991e-01 9.99200722e-16 1.09361136e+00 1.84709877e+00]\n"
     ]
    }
   ],
   "source": [
    "for j in [j for j in range(n) if N[j]]:\n",
    "    d = np.zeros_like(v)\n",
    "    d[j] = 1\n",
    "    d[B] = -ABinv @ A[:,j]\n",
    "    assert np.allclose(A @ d, 0)\n",
    "    t = np.min(-x[d < 0]/d[d < 0])\n",
    "    assert not np.isclose(t, 0)\n",
    "    w = v + t*d\n",
    "    assert np.alltrue(np.logical_or(np.isclose(w, 0), w > 0))\n",
    "    assert np.allclose(A @ w, b)\n",
    "    assert np.isclose(w, 0).sum() == n - m\n",
    "    print(w)"
   ]
  },
  {
   "cell_type": "code",
   "execution_count": 26,
   "metadata": {},
   "outputs": [],
   "source": [
    "AA = sympy.Matrix(A)\n",
    "bb = sympy.Matrix(b)\n",
    "BB = [j for j in range(n) if B[j]]\n",
    "AB = sympy.Matrix(m, m, lambda i, j: AA[i, BB[j]])\n",
    "ABinv = AB.inv()\n",
    "xB = ABinv @ bb\n",
    "x = [0 for _ in range(n)]\n",
    "for i in range(m):\n",
    "    x[BB[i]] = xB[i]\n",
    "x = sympy.Matrix(x)"
   ]
  },
  {
   "cell_type": "code",
   "execution_count": 27,
   "metadata": {},
   "outputs": [
    {
     "ename": "TypeError",
     "evalue": "'Rational' object is not iterable",
     "output_type": "error",
     "traceback": [
      "\u001b[0;31m---------------------------------------------------------------------------\u001b[0m",
      "\u001b[0;31mTypeError\u001b[0m                                 Traceback (most recent call last)",
      "\u001b[0;32m<ipython-input-27-b6be5e137ac1>\u001b[0m in \u001b[0;36m<module>\u001b[0;34m\u001b[0m\n\u001b[1;32m      8\u001b[0m     \u001b[0md\u001b[0m \u001b[0;34m=\u001b[0m \u001b[0msympy\u001b[0m\u001b[0;34m.\u001b[0m\u001b[0mMatrix\u001b[0m\u001b[0;34m(\u001b[0m\u001b[0md\u001b[0m\u001b[0;34m)\u001b[0m\u001b[0;34m\u001b[0m\u001b[0;34m\u001b[0m\u001b[0m\n\u001b[1;32m      9\u001b[0m     \u001b[0;32massert\u001b[0m \u001b[0mnp\u001b[0m\u001b[0;34m.\u001b[0m\u001b[0mallclose\u001b[0m\u001b[0;34m(\u001b[0m\u001b[0mnp\u001b[0m\u001b[0;34m.\u001b[0m\u001b[0marray\u001b[0m\u001b[0;34m(\u001b[0m\u001b[0mA\u001b[0m \u001b[0;34m@\u001b[0m \u001b[0msympy\u001b[0m\u001b[0;34m.\u001b[0m\u001b[0mMatrix\u001b[0m\u001b[0;34m(\u001b[0m\u001b[0md\u001b[0m\u001b[0;34m)\u001b[0m\u001b[0;34m,\u001b[0m \u001b[0mdtype\u001b[0m\u001b[0;34m=\u001b[0m\u001b[0mfloat\u001b[0m\u001b[0;34m)\u001b[0m\u001b[0;34m,\u001b[0m \u001b[0;36m0\u001b[0m\u001b[0;34m)\u001b[0m\u001b[0;34m\u001b[0m\u001b[0;34m\u001b[0m\u001b[0m\n\u001b[0;32m---> 10\u001b[0;31m     \u001b[0mt\u001b[0m \u001b[0;34m=\u001b[0m \u001b[0mmin\u001b[0m\u001b[0;34m(\u001b[0m\u001b[0;34m*\u001b[0m\u001b[0;34m[\u001b[0m\u001b[0;34m-\u001b[0m\u001b[0mx\u001b[0m\u001b[0;34m[\u001b[0m\u001b[0mi\u001b[0m\u001b[0;34m]\u001b[0m\u001b[0;34m/\u001b[0m\u001b[0md\u001b[0m\u001b[0;34m[\u001b[0m\u001b[0mi\u001b[0m\u001b[0;34m]\u001b[0m \u001b[0;32mfor\u001b[0m \u001b[0mi\u001b[0m \u001b[0;32min\u001b[0m \u001b[0mrange\u001b[0m\u001b[0;34m(\u001b[0m\u001b[0mn\u001b[0m\u001b[0;34m)\u001b[0m \u001b[0;32mif\u001b[0m \u001b[0md\u001b[0m\u001b[0;34m[\u001b[0m\u001b[0mi\u001b[0m\u001b[0;34m]\u001b[0m \u001b[0;34m<\u001b[0m \u001b[0;36m0\u001b[0m\u001b[0;34m]\u001b[0m\u001b[0;34m)\u001b[0m\u001b[0;34m\u001b[0m\u001b[0;34m\u001b[0m\u001b[0m\n\u001b[0m\u001b[1;32m     11\u001b[0m     \u001b[0;32massert\u001b[0m \u001b[0mt\u001b[0m \u001b[0;34m>\u001b[0m \u001b[0;36m0\u001b[0m\u001b[0;34m\u001b[0m\u001b[0;34m\u001b[0m\u001b[0m\n\u001b[1;32m     12\u001b[0m     \u001b[0mw\u001b[0m \u001b[0;34m=\u001b[0m \u001b[0mx\u001b[0m \u001b[0;34m+\u001b[0m \u001b[0mt\u001b[0m\u001b[0;34m*\u001b[0m\u001b[0md\u001b[0m\u001b[0;34m\u001b[0m\u001b[0;34m\u001b[0m\u001b[0m\n",
      "\u001b[0;31mTypeError\u001b[0m: 'Rational' object is not iterable"
     ]
    }
   ],
   "source": [
    "adjacents = set()\n",
    "for j in [j for j in range(n) if N[j]]:\n",
    "    d = [0 for i in range(n)]\n",
    "    d[j] = 1\n",
    "    dd = -ABinv @ A[:,j]\n",
    "    for i in range(m):\n",
    "        d[BB[i]] = dd[i]\n",
    "    d = sympy.Matrix(d)\n",
    "    assert np.allclose(np.array(A @ sympy.Matrix(d), dtype=float), 0)\n",
    "    t = min(*[-x[i]/d[i] for i in range(n) if d[i] < 0])\n",
    "    assert t > 0\n",
    "    w = x + t*d\n",
    "    assert all([wi >= 0 for wi in w])\n",
    "    assert AA @ w == bb\n",
    "    assert len([i for i in range(n) if w[i] == 0]) == n - m\n",
    "    w = sympy.DenseNDimArray(w)\n",
    "    adjacents.add(w)\n",
    "    display(w)"
   ]
  },
  {
   "cell_type": "code",
   "execution_count": null,
   "metadata": {},
   "outputs": [
    {
     "data": {
      "text/plain": [
       "{[[0], [135/157], [8801/8007], [0], [3492/2669], [4360/2669], [3649/8007], [0]],\n",
       " [[0], [29673/39968], [82637/39968], [126671/39968], [22975/19984], [0], [0], [28945/39968]],\n",
       " [[81109/33450], [4717/33450], [6926/16725], [0], [0], [36656/16725], [0], [96493/16725]]}"
      ]
     },
     "execution_count": 782,
     "metadata": {},
     "output_type": "execute_result"
    }
   ],
   "source": [
    "adjacents"
   ]
  },
  {
   "cell_type": "code",
   "execution_count": 31,
   "metadata": {},
   "outputs": [],
   "source": [
    "def get_vertex(A, b, B):\n",
    "    x = np.zeros(A.shape[1])\n",
    "    x[B] = np.linalg.solve(A[:,B], b)\n",
    "    return x\n",
    "\n",
    "def get_adjacents(A, b, x):\n",
    "    m, n = A.shape\n",
    "    adjacents = []\n",
    "    N = np.isclose(x, 0)\n",
    "    B = np.logical_not(N)\n",
    "    assert B.sum() == m\n",
    "    U = np.linalg.inv(A[:, B])\n",
    "    for j in [j for j in range(n) if N[j]]:\n",
    "        d = np.zeros(n)\n",
    "        d[j] = 1\n",
    "        d[B] = - U @ A[:,j]\n",
    "        assert np.allclose(A @ d, 0)\n",
    "        neg_mask = np.logical_and(np.logical_not(np.isclose(d, 0)), d < 0)\n",
    "        if np.any(neg_mask):\n",
    "            t = np.min(-x[neg_mask]/d[neg_mask])\n",
    "            assert not np.isclose(t, 0)\n",
    "            y = x + t*d\n",
    "            assert np.alltrue(np.logical_or(np.isclose(y, 0), y > 0))\n",
    "            assert np.allclose(A @ y, b)\n",
    "            assert np.isclose(y, 0).sum() == n - m\n",
    "            adjacents.append(y)\n",
    "    return adjacents"
   ]
  },
  {
   "cell_type": "code",
   "execution_count": 32,
   "metadata": {},
   "outputs": [],
   "source": [
    "def subseqs(A, k):\n",
    "    if k < 0 or len(A) < k:\n",
    "        return []\n",
    "    if k == 0:\n",
    "        return [[]]\n",
    "    ans = [[A[0], *s] for s in subseqs(A[1:], k-1)]\n",
    "    ans.extend(subseqs(A[1:], k))\n",
    "    return ans\n",
    "\n",
    "def find_vertices(A, b):\n",
    "    m, n = A.shape\n",
    "    vertices = []\n",
    "    for B in subseqs(np.arange(n), m):\n",
    "        x = np.zeros(n)\n",
    "        x[B] = np.linalg.solve(A[:,B], b)\n",
    "        if np.alltrue(np.logical_or(np.isclose(x, 0), x > 0)):\n",
    "            vertices.append(x)\n",
    "    return vertices"
   ]
  },
  {
   "cell_type": "code",
   "execution_count": 33,
   "metadata": {},
   "outputs": [
    {
     "name": "stdout",
     "output_type": "stream",
     "text": [
      "19 10 10\n"
     ]
    }
   ],
   "source": [
    "m, n = 4, 8\n",
    "A, b = make_polyhedron(m, n)\n",
    "vertices = find_vertices(A, b)\n",
    "x = vertices[0]\n",
    "\n",
    "def hash_(x, n=1000):\n",
    "    return hash(tuple(np.round(n*x).astype(int)))\n",
    "\n",
    "\n",
    "visited = []\n",
    "visitedh = set()\n",
    "stack = [x]\n",
    "for i in range(100):\n",
    "    if stack == []:\n",
    "        break\n",
    "    x = stack.pop()\n",
    "    xh = hash_(x)\n",
    "    if xh not in visitedh:\n",
    "        visited.append(x)\n",
    "        visitedh.add(xh)\n",
    "    adjacents = get_adjacents(A, b, x)\n",
    "    for y in adjacents:\n",
    "        yh = hash_(y)\n",
    "        if yh not in visitedh:\n",
    "            stack.append(y)\n",
    "print(i, len(visited), len(vertices))"
   ]
  },
  {
   "cell_type": "code",
   "execution_count": 140,
   "metadata": {},
   "outputs": [],
   "source": [
    "m, n = 4, 8\n",
    "A, b = make_polyhedron(m, n)\n",
    "\n",
    "A = sympy.Matrix(A)\n",
    "b = sympy.Matrix(b)"
   ]
  },
  {
   "cell_type": "code",
   "execution_count": 56,
   "metadata": {},
   "outputs": [],
   "source": [
    "def make_polyhedron(m, n, low=-9, high=10, rng=None, seed=None):\n",
    "    if m > n:\n",
    "        raise ValueError(\"Must have m <= n.\")\n",
    "    if rng is None:\n",
    "        rng = np.random.default_rng(seed)\n",
    "    B = list(range(m))\n",
    "    while True:\n",
    "        A = sympy.Matrix(rng.integers(low, high=high, size=(m, n)))\n",
    "        if A[:, B].rank() == m:\n",
    "            break\n",
    "    x = sympy.Matrix([*[1 for i in range(m)], *[0 for i in range(n - m)]])\n",
    "    b = A @ x\n",
    "    for i in range(m):\n",
    "        if b[i] < 0:\n",
    "            A[i, :] = -A[i, :]\n",
    "            b[i] = -b[i]\n",
    "    return A, b\n",
    "\n",
    "\n",
    "def subseqs(A, k):\n",
    "    if k < 0 or len(A) < k:\n",
    "        return []\n",
    "    if k == 0:\n",
    "        return [[]]\n",
    "    ans = [[A[0], *s] for s in subseqs(A[1:], k-1)]\n",
    "    ans.extend(subseqs(A[1:], k))\n",
    "    return ans\n",
    "\n",
    "\n",
    "def find_vertices(A, b):\n",
    "    m, n = A.shape\n",
    "    vertices = []\n",
    "    for B in subseqs(list(range(n)), m):\n",
    "        if A[:, B].rank() == m:\n",
    "            x = sympy.matrices.zeros(n, 1)\n",
    "            xB = A[:, B].inv() @ b\n",
    "            feasible = True\n",
    "            for i, xi in zip(B, xB):\n",
    "                if xi < 0:\n",
    "                    feasible = False\n",
    "                    break\n",
    "                x[i] = xi\n",
    "            if feasible:\n",
    "                vertices.append(sympy.DenseNDimArray(\n",
    "                    [x[i, 0] for i in range(n)]))\n",
    "    return vertices\n",
    "\n",
    "\n",
    "def get_adjacents(A, x):\n",
    "    m, n = A.shape\n",
    "    adjacents = []\n",
    "    B = [j for j in range(n) if x[j] != 0]\n",
    "    N = [j for j in range(n) if x[j] == 0]\n",
    "    assert len(B) == m and len(N) == n - m\n",
    "    U = A[:, B].inv()\n",
    "    for j in N:\n",
    "        d = sympy.matrices.zeros(n, 1)\n",
    "        d[j] = 1\n",
    "        dB = - U @ A[:, j]\n",
    "        for i, di in zip(B, dB):\n",
    "            d[i] = di\n",
    "        assert A @ d == sympy.matrices.zeros(m, 1)\n",
    "        negs = [i for i in range(n) if d[i] < 0]\n",
    "        if negs != []:\n",
    "            t = min([-x[i]/d[i] for i in negs])\n",
    "            y = sympy.Matrix(x) + t*d\n",
    "            assert all([y[i] >= 0 for i in range(n)])\n",
    "            assert len([i for i in range(n) if y[i] == 0]) >= n - m\n",
    "            adjacents.append(sympy.DenseNDimArray([y[i] for i in range(n)]))\n",
    "        else:\n",
    "            print(\"Extreme!\")\n",
    "    return adjacents\n",
    "\n",
    "\n",
    "def dfs(A, x, max_iter=1000):\n",
    "    visited = set()\n",
    "    stack = [x]\n",
    "    for i in range(max_iter):\n",
    "        if stack == []:\n",
    "            break\n",
    "        x = stack.pop()\n",
    "        visited.add(x)\n",
    "        adjacents = get_adjacents(A, x)\n",
    "        for y in adjacents:\n",
    "            if y not in visited:\n",
    "                stack.append(y)\n",
    "        if i == max_iter - 1:\n",
    "            warn(\"max_iter reached.\")\n",
    "    return visited\n"
   ]
  },
  {
   "cell_type": "code",
   "execution_count": 58,
   "metadata": {},
   "outputs": [],
   "source": [
    "m, n = 5, 10\n",
    "rng = np.random.default_rng()\n",
    "x = sympy.DenseNDimArray([*[1 for i in range(m)], *[0 for i in range(n - m)]])\n",
    "for _ in range(10):\n",
    "    A, b = make_polyhedron(m, n, rng=rng)\n",
    "    vertices = find_vertices(A, b)\n",
    "    visited = dfs(A, x)\n",
    "    assert visited == set(vertices)"
   ]
  },
  {
   "cell_type": "code",
   "execution_count": 59,
   "metadata": {},
   "outputs": [
    {
     "data": {
      "text/plain": [
       "26"
      ]
     },
     "execution_count": 59,
     "metadata": {},
     "output_type": "execute_result"
    }
   ],
   "source": [
    "len(visited)"
   ]
  },
  {
   "cell_type": "code",
   "execution_count": 60,
   "metadata": {},
   "outputs": [
    {
     "data": {
      "text/plain": [
       "{[0, 110028/77765, 0, 51744/77765, 310899/155530, 0, 50467/155530, 54334/77765, 0, 0],\n",
       " [0, 11031/23534, 50467/47068, 22465/23534, 48385/47068, 0, 0, 8037/23534, 0, 0],\n",
       " [0, 1187/11326, 9608/5663, 5193/11326, 0, 0, 0, 1807/11326, 0, 9677/11326],\n",
       " [0, 12266/43637, 130175/87274, 0, 0, 0, 6635/87274, 0, 8982/43637, 51251/43637],\n",
       " [0, 1437/2224, 785/1112, 617/1112, 1485/1112, 0, 0, 0, 893/2224, 0],\n",
       " [0, 14417/18064, 8815/9032, 0, 0, 6635/9032, 0, 0, 9419/18064, 10571/9032],\n",
       " [0, 1479/11168, 4535/2792, 1327/5584, 0, 0, 0, 0, 1807/11168, 2673/2792],\n",
       " [0, 17881/14962, 0, 4753/22443, 88085/44886, 0, 2355/14962, 0, 27167/44886, 0],\n",
       " [0, 1819/1408, 0, 9677/23232, 835/528, 2355/3872, 0, 0, 34543/46464, 0],\n",
       " [0, 2633/1396, 0, 0, 0, 695/349, 0, 205/698, 1171/1396, 939/698],\n",
       " [0, 27671/15247, 0, 22937/15247, 30037/30494, 50467/30494, 0, 34543/30494, 0, 0],\n",
       " [0, 3448/7347, 20641/14694, 0, 0, 0, 2885/14694, 1996/7347, 0, 9865/7347],\n",
       " [0, 37769/24128, 0, 0, 8815/12064, 15335/12064, 0, 0, 22083/24128, 9677/12064],\n",
       " [0, 44771/35797, 0, 0, 130175/71594, 0, 15335/71594, 0, 21917/35797, 9506/35797],\n",
       " [0, 64632/29197, 0, 0, 0, 185769/116788, 1171/2716, 137063/116788, 0, 110505/58394],\n",
       " [0, 82971/37582, 0, 1171/874, 0, 48040/18791, 0, 52375/37582, 0, 30037/37582],\n",
       " [0, 96900/60479, 0, 0, 185769/120958, 0, 62137/120958, 43834/60479, 0, 51744/60479],\n",
       " [1, 1, 1, 1, 1, 0, 0, 0, 0, 0],\n",
       " [137063/47125, 163346/47125, 0, 0, 0, 55291/47125, 20873/47125, 0, 0, 87797/47125],\n",
       " [17964/21301, 20560/21301, 55291/42602, 0, 0, 0, 9271/42602, 0, 0, 29311/21301],\n",
       " [27167/14214, 32813/14214, 0, 11221/14214, 17251/9476, 0, 2679/9476, 0, 0, 0],\n",
       " [34543/12039, 37069/12039, 0, 18401/12039, 3664/4013, 5358/4013, 0, 0, 0, 0],\n",
       " [43834/21955, 56472/21955, 0, 0, 55291/43910, 0, 22259/43910, 0, 0, 22442/21955],\n",
       " [52375/15087, 55861/15087, 0, 20873/15087, 0, 10510/5029, 0, 0, 0, 3664/5029],\n",
       " [8815/12359, 54159/24718, 0, 0, 0, 23380/12359, 0, 0, 20873/24718, 16492/12359],\n",
       " [9035/19059, 6887/19059, 10510/6353, 9271/19059, 0, 0, 0, 0, 0, 5358/6353]}"
      ]
     },
     "execution_count": 60,
     "metadata": {},
     "output_type": "execute_result"
    }
   ],
   "source": [
    "visited"
   ]
  },
  {
   "cell_type": "code",
   "execution_count": null,
   "metadata": {},
   "outputs": [],
   "source": []
  }
 ],
 "metadata": {
  "interpreter": {
   "hash": "397704579725e15f5c7cb49fe5f0341eb7531c82d19f2c29d197e8b64ab5776b"
  },
  "kernelspec": {
   "display_name": "Python 3.9.5 64-bit",
   "language": "python",
   "name": "python3"
  },
  "language_info": {
   "codemirror_mode": {
    "name": "ipython",
    "version": 3
   },
   "file_extension": ".py",
   "mimetype": "text/x-python",
   "name": "python",
   "nbconvert_exporter": "python",
   "pygments_lexer": "ipython3",
   "version": "3.9.5"
  },
  "orig_nbformat": 4
 },
 "nbformat": 4,
 "nbformat_minor": 2
}
